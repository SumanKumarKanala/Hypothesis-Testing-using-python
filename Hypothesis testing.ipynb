{
 "cells": [
  {
   "cell_type": "markdown",
   "id": "5fb7b20f",
   "metadata": {},
   "source": [
    "# HYPOTHESIS TESTING"
   ]
  },
  {
   "cell_type": "code",
   "execution_count": 63,
   "id": "29d4f651",
   "metadata": {},
   "outputs": [],
   "source": [
    "#importing necessary libraries\n",
    "import numpy as np\n",
    "import pandas as pd\n",
    "from scipy import stats\n"
   ]
  },
  {
   "cell_type": "markdown",
   "id": "27441d35",
   "metadata": {},
   "source": [
    "# cutlets statement"
   ]
  },
  {
   "cell_type": "markdown",
   "id": "09cfbb6d",
   "metadata": {},
   "source": [
    "Defining null and alternate hypothesis\n",
    "\n",
    "\n",
    "H0: Diameter of unit A == Diameter of Unit B\n",
    "\n",
    "\n",
    "H1: Diameter of unit A != Diameter of Unit B\n"
   ]
  },
  {
   "cell_type": "markdown",
   "id": "eb00f3b9",
   "metadata": {},
   "source": [
    "Siginificance level alpha =0.05 \n",
    "Confidence interval =0.95\n",
    "\n",
    "if p value < aplha we reject null hypothesis\n",
    "\n",
    "elif p value > alpha we reject alternate hyothesis\n",
    "\n",
    "\n",
    "Test type : two sample Independent t test"
   ]
  },
  {
   "cell_type": "code",
   "execution_count": 64,
   "id": "a2d5e98d",
   "metadata": {},
   "outputs": [],
   "source": [
    "#reading the file\n",
    "cutlets_df=pd.read_csv('Cutlets.csv')"
   ]
  },
  {
   "cell_type": "code",
   "execution_count": 65,
   "id": "95ae7728",
   "metadata": {},
   "outputs": [
    {
     "data": {
      "text/html": [
       "<div>\n",
       "<style scoped>\n",
       "    .dataframe tbody tr th:only-of-type {\n",
       "        vertical-align: middle;\n",
       "    }\n",
       "\n",
       "    .dataframe tbody tr th {\n",
       "        vertical-align: top;\n",
       "    }\n",
       "\n",
       "    .dataframe thead th {\n",
       "        text-align: right;\n",
       "    }\n",
       "</style>\n",
       "<table border=\"1\" class=\"dataframe\">\n",
       "  <thead>\n",
       "    <tr style=\"text-align: right;\">\n",
       "      <th></th>\n",
       "      <th>Unit A</th>\n",
       "      <th>Unit B</th>\n",
       "    </tr>\n",
       "  </thead>\n",
       "  <tbody>\n",
       "    <tr>\n",
       "      <th>0</th>\n",
       "      <td>6.8090</td>\n",
       "      <td>6.7703</td>\n",
       "    </tr>\n",
       "    <tr>\n",
       "      <th>1</th>\n",
       "      <td>6.4376</td>\n",
       "      <td>7.5093</td>\n",
       "    </tr>\n",
       "    <tr>\n",
       "      <th>2</th>\n",
       "      <td>6.9157</td>\n",
       "      <td>6.7300</td>\n",
       "    </tr>\n",
       "    <tr>\n",
       "      <th>3</th>\n",
       "      <td>7.3012</td>\n",
       "      <td>6.7878</td>\n",
       "    </tr>\n",
       "    <tr>\n",
       "      <th>4</th>\n",
       "      <td>7.4488</td>\n",
       "      <td>7.1522</td>\n",
       "    </tr>\n",
       "  </tbody>\n",
       "</table>\n",
       "</div>"
      ],
      "text/plain": [
       "   Unit A  Unit B\n",
       "0  6.8090  6.7703\n",
       "1  6.4376  7.5093\n",
       "2  6.9157  6.7300\n",
       "3  7.3012  6.7878\n",
       "4  7.4488  7.1522"
      ]
     },
     "execution_count": 65,
     "metadata": {},
     "output_type": "execute_result"
    }
   ],
   "source": [
    "#overview of te data\n",
    "cutlets_df.head()"
   ]
  },
  {
   "cell_type": "code",
   "execution_count": 66,
   "id": "1460a8dd",
   "metadata": {},
   "outputs": [],
   "source": [
    "#defining alpha=0.05\n",
    "alpha=0.05"
   ]
  },
  {
   "cell_type": "code",
   "execution_count": 67,
   "id": "f91c44ee",
   "metadata": {},
   "outputs": [
    {
     "data": {
      "text/plain": [
       "Ttest_indResult(statistic=0.7228688704678063, pvalue=0.4722394724599501)"
      ]
     },
     "execution_count": 67,
     "metadata": {},
     "output_type": "execute_result"
    }
   ],
   "source": [
    "#imprting ttest_ind from stats library \n",
    "stats.ttest_ind(cutlets_df['Unit A'],cutlets_df['Unit B'])"
   ]
  },
  {
   "cell_type": "code",
   "execution_count": 68,
   "id": "f0ac63d5",
   "metadata": {},
   "outputs": [],
   "source": [
    "#storing test statistic value and p value in two variables\n",
    "ttest_ind,p_cutlets=stats.ttest_ind(cutlets_df['Unit A'],cutlets_df['Unit B'])"
   ]
  },
  {
   "cell_type": "code",
   "execution_count": 69,
   "id": "7e853a8c",
   "metadata": {},
   "outputs": [
    {
     "name": "stdout",
     "output_type": "stream",
     "text": [
      "ttest_ind statistic is : 0.7228688704678063\n",
      "pvalue of ttset_ind is : 0.4722394724599501\n"
     ]
    }
   ],
   "source": [
    "#displaying results\n",
    "print('ttest_ind statistic is :',ttest_ind)\n",
    "print('pvalue of ttset_ind is :',p_cutlets)"
   ]
  },
  {
   "cell_type": "code",
   "execution_count": 70,
   "id": "974e4dde",
   "metadata": {},
   "outputs": [
    {
     "name": "stdout",
     "output_type": "stream",
     "text": [
      "reject alternate hypothesis\n"
     ]
    }
   ],
   "source": [
    "#checking the hypothesis\n",
    "if p_cutlets<alpha:\n",
    "    print('reject null hypothesis')\n",
    "elif p_cutlets>alpha:\n",
    "    print('reject alternate hypothesis')"
   ]
  },
  {
   "cell_type": "markdown",
   "id": "ff4c4796",
   "metadata": {},
   "source": [
    "Conclusion:\n",
    "\n",
    "     1)we reject alternate hypothesis.\n",
    "     \n",
    "     2)According to the problem statement the diameters of two units unit A and Unit B  are equal as per the hypothesis test carried out."
   ]
  },
  {
   "cell_type": "markdown",
   "id": "5a181a95",
   "metadata": {},
   "source": [
    "# LAB TAT STATEMENT\n"
   ]
  },
  {
   "cell_type": "markdown",
   "id": "a5fffcdc",
   "metadata": {},
   "source": [
    "Defining null and alternate hypothesis\n",
    "\n",
    "H0: ATAT  of lab1 == lab2 == lab3 == lab4\n",
    "\n",
    "H1: ATAT of lab1 != lab2 != lab3 != lab4\n",
    "\n",
    "Siginificance level alpha =0.05 Confidence interval =0.95\n",
    "\n",
    "if p value < aplha we reject null hypothesis\n",
    "\n",
    "elif p value > alpha we reject alternate hyothesis\n",
    "\n",
    "Test type : Anova test"
   ]
  },
  {
   "cell_type": "code",
   "execution_count": 71,
   "id": "50471478",
   "metadata": {},
   "outputs": [],
   "source": [
    "#reading the data\n",
    "lab_df=pd.read_csv('LabTAT.csv')"
   ]
  },
  {
   "cell_type": "code",
   "execution_count": 72,
   "id": "5b7dc001",
   "metadata": {},
   "outputs": [
    {
     "data": {
      "text/html": [
       "<div>\n",
       "<style scoped>\n",
       "    .dataframe tbody tr th:only-of-type {\n",
       "        vertical-align: middle;\n",
       "    }\n",
       "\n",
       "    .dataframe tbody tr th {\n",
       "        vertical-align: top;\n",
       "    }\n",
       "\n",
       "    .dataframe thead th {\n",
       "        text-align: right;\n",
       "    }\n",
       "</style>\n",
       "<table border=\"1\" class=\"dataframe\">\n",
       "  <thead>\n",
       "    <tr style=\"text-align: right;\">\n",
       "      <th></th>\n",
       "      <th>Laboratory 1</th>\n",
       "      <th>Laboratory 2</th>\n",
       "      <th>Laboratory 3</th>\n",
       "      <th>Laboratory 4</th>\n",
       "    </tr>\n",
       "  </thead>\n",
       "  <tbody>\n",
       "    <tr>\n",
       "      <th>0</th>\n",
       "      <td>185.35</td>\n",
       "      <td>165.53</td>\n",
       "      <td>176.70</td>\n",
       "      <td>166.13</td>\n",
       "    </tr>\n",
       "    <tr>\n",
       "      <th>1</th>\n",
       "      <td>170.49</td>\n",
       "      <td>185.91</td>\n",
       "      <td>198.45</td>\n",
       "      <td>160.79</td>\n",
       "    </tr>\n",
       "    <tr>\n",
       "      <th>2</th>\n",
       "      <td>192.77</td>\n",
       "      <td>194.92</td>\n",
       "      <td>201.23</td>\n",
       "      <td>185.18</td>\n",
       "    </tr>\n",
       "    <tr>\n",
       "      <th>3</th>\n",
       "      <td>177.33</td>\n",
       "      <td>183.00</td>\n",
       "      <td>199.61</td>\n",
       "      <td>176.42</td>\n",
       "    </tr>\n",
       "    <tr>\n",
       "      <th>4</th>\n",
       "      <td>193.41</td>\n",
       "      <td>169.57</td>\n",
       "      <td>204.63</td>\n",
       "      <td>152.60</td>\n",
       "    </tr>\n",
       "  </tbody>\n",
       "</table>\n",
       "</div>"
      ],
      "text/plain": [
       "   Laboratory 1  Laboratory 2  Laboratory 3  Laboratory 4\n",
       "0        185.35        165.53        176.70        166.13\n",
       "1        170.49        185.91        198.45        160.79\n",
       "2        192.77        194.92        201.23        185.18\n",
       "3        177.33        183.00        199.61        176.42\n",
       "4        193.41        169.57        204.63        152.60"
      ]
     },
     "execution_count": 72,
     "metadata": {},
     "output_type": "execute_result"
    }
   ],
   "source": [
    "#overview od data\n",
    "lab_df.head()"
   ]
  },
  {
   "cell_type": "code",
   "execution_count": 73,
   "id": "39611479",
   "metadata": {},
   "outputs": [
    {
     "data": {
      "text/plain": [
       "F_onewayResult(statistic=118.70421654401437, pvalue=2.1156708949992414e-57)"
      ]
     },
     "execution_count": 73,
     "metadata": {},
     "output_type": "execute_result"
    }
   ],
   "source": [
    "#importing f_oneway test from stats library\n",
    "stats.f_oneway(lab_df.iloc[:,0],lab_df.iloc[:,1],lab_df.iloc[:,2],lab_df.iloc[:,3])"
   ]
  },
  {
   "cell_type": "code",
   "execution_count": 74,
   "id": "24241e62",
   "metadata": {},
   "outputs": [],
   "source": [
    "#storing test statistic value and p value in two variables\n",
    "f_test_statistic,p_anova=stats.f_oneway(lab_df.iloc[:,0],lab_df.iloc[:,1],lab_df.iloc[:,2],lab_df.iloc[:,3])"
   ]
  },
  {
   "cell_type": "code",
   "execution_count": 75,
   "id": "848168cb",
   "metadata": {},
   "outputs": [
    {
     "name": "stdout",
     "output_type": "stream",
     "text": [
      "f_test statistic is : 118.70421654401437\n",
      "pvalue of anova test is : 2.1156708949992414e-57\n"
     ]
    }
   ],
   "source": [
    "#displaying results\n",
    "print('f_test statistic is :',f_test_statistic)\n",
    "print('pvalue of anova test is :',p_anova)"
   ]
  },
  {
   "cell_type": "code",
   "execution_count": 76,
   "id": "e0b2b302",
   "metadata": {},
   "outputs": [
    {
     "name": "stdout",
     "output_type": "stream",
     "text": [
      "reject null hypothesis\n"
     ]
    }
   ],
   "source": [
    "#checking the hypothesis\n",
    "if p_anova<alpha:\n",
    "    print('reject null hypothesis')\n",
    "elif p_anova>alpha:\n",
    "    print('reject alternate hypothesis')"
   ]
  },
  {
   "cell_type": "markdown",
   "id": "8f036773",
   "metadata": {},
   "source": [
    "Conclusion:\n",
    "\n",
    "     1)we reject null hypothesis.\n",
    "     \n",
    "     2)According to the problem statement the ATAT of 4 labs are not equal."
   ]
  },
  {
   "cell_type": "markdown",
   "id": "b73380dd",
   "metadata": {},
   "source": [
    "# Buyer ratio statement"
   ]
  },
  {
   "cell_type": "markdown",
   "id": "0afe343a",
   "metadata": {},
   "source": [
    "Defining null and alternate hypothesis\n",
    "\n",
    "H0: no relationship b/w variables\n",
    "\n",
    "H1: exists a relationship b/w variables\n",
    "\n",
    "Siginificance level alpha =0.05 Confidence interval =0.95\n",
    "\n",
    "if chi-square statistic score <critical value:\n",
    "                              \n",
    "    accept ho\n",
    "\n",
    "elif chi_square statistic score>critical value:\n",
    "    \n",
    "    \n",
    "    accept h1\n",
    "\n",
    "Test type : Chisquare test"
   ]
  },
  {
   "cell_type": "code",
   "execution_count": 77,
   "id": "fab11a80",
   "metadata": {},
   "outputs": [
    {
     "data": {
      "text/html": [
       "<div>\n",
       "<style scoped>\n",
       "    .dataframe tbody tr th:only-of-type {\n",
       "        vertical-align: middle;\n",
       "    }\n",
       "\n",
       "    .dataframe tbody tr th {\n",
       "        vertical-align: top;\n",
       "    }\n",
       "\n",
       "    .dataframe thead th {\n",
       "        text-align: right;\n",
       "    }\n",
       "</style>\n",
       "<table border=\"1\" class=\"dataframe\">\n",
       "  <thead>\n",
       "    <tr style=\"text-align: right;\">\n",
       "      <th></th>\n",
       "      <th>Observed Values</th>\n",
       "      <th>East</th>\n",
       "      <th>West</th>\n",
       "      <th>North</th>\n",
       "      <th>South</th>\n",
       "    </tr>\n",
       "  </thead>\n",
       "  <tbody>\n",
       "    <tr>\n",
       "      <th>0</th>\n",
       "      <td>Males</td>\n",
       "      <td>50</td>\n",
       "      <td>142</td>\n",
       "      <td>131</td>\n",
       "      <td>70</td>\n",
       "    </tr>\n",
       "    <tr>\n",
       "      <th>1</th>\n",
       "      <td>Females</td>\n",
       "      <td>435</td>\n",
       "      <td>1523</td>\n",
       "      <td>1356</td>\n",
       "      <td>750</td>\n",
       "    </tr>\n",
       "  </tbody>\n",
       "</table>\n",
       "</div>"
      ],
      "text/plain": [
       "  Observed Values  East  West  North  South\n",
       "0           Males    50   142    131     70\n",
       "1         Females   435  1523   1356    750"
      ]
     },
     "execution_count": 77,
     "metadata": {},
     "output_type": "execute_result"
    }
   ],
   "source": [
    "#reading the data\n",
    "buyratio_df=pd.read_csv('BuyerRatio.csv')\n",
    "buyratio_df.head()"
   ]
  },
  {
   "cell_type": "code",
   "execution_count": 78,
   "id": "546a7be2",
   "metadata": {},
   "outputs": [
    {
     "data": {
      "text/plain": [
       "array([[50, 142, 131, 70],\n",
       "       [435, 1523, 1356, 750]], dtype=object)"
      ]
     },
     "execution_count": 78,
     "metadata": {},
     "output_type": "execute_result"
    }
   ],
   "source": [
    "#getting observed values in array \n",
    "buyratio_values=buyratio_df.values[:,1:]\n",
    "buyratio_values"
   ]
  },
  {
   "cell_type": "code",
   "execution_count": 79,
   "id": "2efb8e5c",
   "metadata": {},
   "outputs": [],
   "source": [
    "#getting \n",
    "val=stats.chi2_contingency(buyratio_values)"
   ]
  },
  {
   "cell_type": "code",
   "execution_count": 80,
   "id": "58391f0b",
   "metadata": {},
   "outputs": [
    {
     "data": {
      "text/plain": [
       "(1.595945538661058,\n",
       " 0.6603094907091882,\n",
       " 3,\n",
       " array([[  42.76531299,  146.81287862,  131.11756787,   72.30424052],\n",
       "        [ 442.23468701, 1518.18712138, 1355.88243213,  747.69575948]]))"
      ]
     },
     "execution_count": 80,
     "metadata": {},
     "output_type": "execute_result"
    }
   ],
   "source": [
    "val"
   ]
  },
  {
   "cell_type": "code",
   "execution_count": 43,
   "id": "a75fe4ce",
   "metadata": {},
   "outputs": [
    {
     "data": {
      "text/plain": [
       "array([[  42.76531299,  146.81287862,  131.11756787,   72.30424052],\n",
       "       [ 442.23468701, 1518.18712138, 1355.88243213,  747.69575948]])"
      ]
     },
     "execution_count": 43,
     "metadata": {},
     "output_type": "execute_result"
    }
   ],
   "source": [
    "#separating expected values\n",
    "expected_values=val[3]\n",
    "expected_values\n"
   ]
  },
  {
   "cell_type": "code",
   "execution_count": 55,
   "id": "1592f555",
   "metadata": {},
   "outputs": [
    {
     "name": "stdout",
     "output_type": "stream",
     "text": [
      "degrees of freedom : 3\n"
     ]
    }
   ],
   "source": [
    "#calculating degrees of freedom\n",
    "rows=buyratio_df.shape[0]\n",
    "columns=len(buyratio_df.columns)-1\n",
    "ddof=(rows-1)*(columns-1)\n",
    "print('degrees of freedom :',ddof)"
   ]
  },
  {
   "cell_type": "code",
   "execution_count": 58,
   "id": "b02ccd89",
   "metadata": {},
   "outputs": [],
   "source": [
    "#calculating chisquare score\n",
    "from scipy.stats import chi2\n",
    "chi_square=sum([(o-e)**2/e for o,e in zip(buyratio_values,expected_values)])\n",
    "chi_square_statistic=chi_square[0]+chi_square[1]"
   ]
  },
  {
   "cell_type": "code",
   "execution_count": 59,
   "id": "9d6dcdf7",
   "metadata": {},
   "outputs": [
    {
     "name": "stdout",
     "output_type": "stream",
     "text": [
      "chi square statistic value : 1.5152956451130446\n"
     ]
    }
   ],
   "source": [
    "print('chi square statistic value :',chi_square_statistic)"
   ]
  },
  {
   "cell_type": "code",
   "execution_count": 60,
   "id": "eea85b5e",
   "metadata": {},
   "outputs": [
    {
     "name": "stdout",
     "output_type": "stream",
     "text": [
      "critical value : 7.814727903251179\n"
     ]
    }
   ],
   "source": [
    "#calculating critical value\n",
    "critical_value=chi2.ppf(q=1-alpha,df=ddof)\n",
    "print('critical value :',critical_value)"
   ]
  },
  {
   "cell_type": "code",
   "execution_count": 62,
   "id": "ed9ccdf9",
   "metadata": {},
   "outputs": [
    {
     "name": "stdout",
     "output_type": "stream",
     "text": [
      "reject alternate hypothesis\n"
     ]
    }
   ],
   "source": [
    "#checking the hypothesis\n",
    "if chi_square_statistic<critical_value:\n",
    "    print('reject alternate hypothesis')\n",
    "elif chi_square_statistic>critical_value:\n",
    "    print('reject null hypothesis')"
   ]
  },
  {
   "cell_type": "markdown",
   "id": "b978cb7d",
   "metadata": {},
   "source": [
    "Conclusion:\n",
    "\n",
    "     1)we reject alternate hypothesis.\n",
    "     \n",
    "     2)According to the problem statement and by performing hypothesis testing we found there is a relationship between                variables."
   ]
  },
  {
   "cell_type": "markdown",
   "id": "cdebbe9f",
   "metadata": {},
   "source": [
    "# customer order statement"
   ]
  },
  {
   "cell_type": "markdown",
   "id": "45e13a97",
   "metadata": {},
   "source": [
    "Defining null and alternate hypothesis\n",
    "\n",
    "H0: defective %  of Phillippines ==\tIndonesia == Malta ==\tIndia\n",
    "\n",
    "H1: defective %  of Phillippines !=\tIndonesia != Malta !=\tIndia\n",
    "\n",
    "Siginificance level alpha =0.05 Confidence interval =0.95\n",
    "\n",
    "if p value < aplha we reject null hypothesis\n",
    "\n",
    "elif p value > alpha we reject alternate hyothesis\n",
    "\n",
    "Test type : Anova test"
   ]
  },
  {
   "cell_type": "code",
   "execution_count": 89,
   "id": "48423570",
   "metadata": {},
   "outputs": [],
   "source": [
    "#reading the data\n",
    "customer_df=pd.read_csv('Costomer+OrderForm.csv')"
   ]
  },
  {
   "cell_type": "code",
   "execution_count": 90,
   "id": "a7daa598",
   "metadata": {},
   "outputs": [
    {
     "data": {
      "text/html": [
       "<div>\n",
       "<style scoped>\n",
       "    .dataframe tbody tr th:only-of-type {\n",
       "        vertical-align: middle;\n",
       "    }\n",
       "\n",
       "    .dataframe tbody tr th {\n",
       "        vertical-align: top;\n",
       "    }\n",
       "\n",
       "    .dataframe thead th {\n",
       "        text-align: right;\n",
       "    }\n",
       "</style>\n",
       "<table border=\"1\" class=\"dataframe\">\n",
       "  <thead>\n",
       "    <tr style=\"text-align: right;\">\n",
       "      <th></th>\n",
       "      <th>Phillippines</th>\n",
       "      <th>Indonesia</th>\n",
       "      <th>Malta</th>\n",
       "      <th>India</th>\n",
       "    </tr>\n",
       "  </thead>\n",
       "  <tbody>\n",
       "    <tr>\n",
       "      <th>0</th>\n",
       "      <td>Error Free</td>\n",
       "      <td>Error Free</td>\n",
       "      <td>Defective</td>\n",
       "      <td>Error Free</td>\n",
       "    </tr>\n",
       "    <tr>\n",
       "      <th>1</th>\n",
       "      <td>Error Free</td>\n",
       "      <td>Error Free</td>\n",
       "      <td>Error Free</td>\n",
       "      <td>Defective</td>\n",
       "    </tr>\n",
       "    <tr>\n",
       "      <th>2</th>\n",
       "      <td>Error Free</td>\n",
       "      <td>Defective</td>\n",
       "      <td>Defective</td>\n",
       "      <td>Error Free</td>\n",
       "    </tr>\n",
       "    <tr>\n",
       "      <th>3</th>\n",
       "      <td>Error Free</td>\n",
       "      <td>Error Free</td>\n",
       "      <td>Error Free</td>\n",
       "      <td>Error Free</td>\n",
       "    </tr>\n",
       "    <tr>\n",
       "      <th>4</th>\n",
       "      <td>Error Free</td>\n",
       "      <td>Error Free</td>\n",
       "      <td>Defective</td>\n",
       "      <td>Error Free</td>\n",
       "    </tr>\n",
       "  </tbody>\n",
       "</table>\n",
       "</div>"
      ],
      "text/plain": [
       "  Phillippines   Indonesia       Malta       India\n",
       "0   Error Free  Error Free   Defective  Error Free\n",
       "1   Error Free  Error Free  Error Free   Defective\n",
       "2   Error Free   Defective   Defective  Error Free\n",
       "3   Error Free  Error Free  Error Free  Error Free\n",
       "4   Error Free  Error Free   Defective  Error Free"
      ]
     },
     "execution_count": 90,
     "metadata": {},
     "output_type": "execute_result"
    }
   ],
   "source": [
    "#overview of data\n",
    "customer_df.head()"
   ]
  },
  {
   "cell_type": "code",
   "execution_count": 118,
   "id": "2e13640a",
   "metadata": {},
   "outputs": [],
   "source": [
    "#creating dummies\n",
    "customer_defective=pd.get_dummies(customer_df)"
   ]
  },
  {
   "cell_type": "code",
   "execution_count": 122,
   "id": "4ce10d93",
   "metadata": {},
   "outputs": [
    {
     "data": {
      "text/html": [
       "<div>\n",
       "<style scoped>\n",
       "    .dataframe tbody tr th:only-of-type {\n",
       "        vertical-align: middle;\n",
       "    }\n",
       "\n",
       "    .dataframe tbody tr th {\n",
       "        vertical-align: top;\n",
       "    }\n",
       "\n",
       "    .dataframe thead th {\n",
       "        text-align: right;\n",
       "    }\n",
       "</style>\n",
       "<table border=\"1\" class=\"dataframe\">\n",
       "  <thead>\n",
       "    <tr style=\"text-align: right;\">\n",
       "      <th></th>\n",
       "      <th>Phillippines_Defective</th>\n",
       "      <th>Indonesia_Defective</th>\n",
       "      <th>Malta_Defective</th>\n",
       "      <th>India_Defective</th>\n",
       "    </tr>\n",
       "  </thead>\n",
       "  <tbody>\n",
       "    <tr>\n",
       "      <th>0</th>\n",
       "      <td>0</td>\n",
       "      <td>0</td>\n",
       "      <td>1</td>\n",
       "      <td>0</td>\n",
       "    </tr>\n",
       "    <tr>\n",
       "      <th>1</th>\n",
       "      <td>0</td>\n",
       "      <td>0</td>\n",
       "      <td>0</td>\n",
       "      <td>1</td>\n",
       "    </tr>\n",
       "    <tr>\n",
       "      <th>2</th>\n",
       "      <td>0</td>\n",
       "      <td>1</td>\n",
       "      <td>1</td>\n",
       "      <td>0</td>\n",
       "    </tr>\n",
       "    <tr>\n",
       "      <th>3</th>\n",
       "      <td>0</td>\n",
       "      <td>0</td>\n",
       "      <td>0</td>\n",
       "      <td>0</td>\n",
       "    </tr>\n",
       "    <tr>\n",
       "      <th>4</th>\n",
       "      <td>0</td>\n",
       "      <td>0</td>\n",
       "      <td>1</td>\n",
       "      <td>0</td>\n",
       "    </tr>\n",
       "  </tbody>\n",
       "</table>\n",
       "</div>"
      ],
      "text/plain": [
       "   Phillippines_Defective  Indonesia_Defective  Malta_Defective  \\\n",
       "0                       0                    0                1   \n",
       "1                       0                    0                0   \n",
       "2                       0                    1                1   \n",
       "3                       0                    0                0   \n",
       "4                       0                    0                1   \n",
       "\n",
       "   India_Defective  \n",
       "0                0  \n",
       "1                1  \n",
       "2                0  \n",
       "3                0  \n",
       "4                0  "
      ]
     },
     "execution_count": 122,
     "metadata": {},
     "output_type": "execute_result"
    }
   ],
   "source": [
    "customer_defective=customer_defective.loc[:,('Phillippines_Defective','Indonesia_Defective','Malta_Defective','India_Defective')]\n",
    "customer_defective.head()"
   ]
  },
  {
   "cell_type": "code",
   "execution_count": 123,
   "id": "1f766d64",
   "metadata": {},
   "outputs": [
    {
     "data": {
      "text/plain": [
       "F_onewayResult(statistic=1.286168556089167, pvalue=0.2776780955705948)"
      ]
     },
     "execution_count": 123,
     "metadata": {},
     "output_type": "execute_result"
    }
   ],
   "source": [
    "#importing f_oneway test from stats library\n",
    "stats.f_oneway(customer_defective.iloc[:,0],customer_defective.iloc[:,1],customer_defective.iloc[:,2],customer_defective.iloc[:,3])"
   ]
  },
  {
   "cell_type": "code",
   "execution_count": 127,
   "id": "725733f1",
   "metadata": {},
   "outputs": [],
   "source": [
    "#storing test statistic value and p value in two variables\n",
    "f_test_statistic_defective,p_anova_defective=stats.f_oneway(customer_defective.iloc[:,0],customer_defective.iloc[:,1],customer_defective.iloc[:,2],customer_defective.iloc[:,3])"
   ]
  },
  {
   "cell_type": "code",
   "execution_count": 128,
   "id": "64e3eaeb",
   "metadata": {},
   "outputs": [
    {
     "name": "stdout",
     "output_type": "stream",
     "text": [
      "f_test statistic  is : 1.286168556089167\n",
      "pvalue of anova test is : 0.2776780955705948\n"
     ]
    }
   ],
   "source": [
    "#displaying results\n",
    "print('f_test statistic  is :',f_test_statistic_defective)\n",
    "print('pvalue of anova test is :',p_anova_defective)\n"
   ]
  },
  {
   "cell_type": "code",
   "execution_count": 129,
   "id": "a39c5420",
   "metadata": {},
   "outputs": [
    {
     "name": "stdout",
     "output_type": "stream",
     "text": [
      "reject null hypothesis\n"
     ]
    }
   ],
   "source": [
    "#checking the hypothesis\n",
    "if p_anova<alpha:\n",
    "    print('reject null hypothesis')\n",
    "elif p_anova>alpha:\n",
    "    print('reject alternate hypothesis')"
   ]
  },
  {
   "cell_type": "markdown",
   "id": "4c903d97",
   "metadata": {},
   "source": [
    "Conclusion:\n",
    "\n",
    "     1)we reject null hypothesis.\n",
    "     \n",
    "     2)According to the problem statement the defective % of 4 centers are not equal."
   ]
  },
  {
   "cell_type": "markdown",
   "id": "a407ef83",
   "metadata": {},
   "source": [
    "Hence we performed the hypothesis testing for all problem statements and drawn conclusions to take necessary decisions.\n",
    "                                                                                      \n",
    "                                                                                                      \n",
    "                                                                                               "
   ]
  },
  {
   "cell_type": "markdown",
   "id": "c1a5276d",
   "metadata": {},
   "source": [
    "#                                                           \n",
    "                                                                                     K.SUMAN KUMAR"
   ]
  }
 ],
 "metadata": {
  "kernelspec": {
   "display_name": "Python 3",
   "language": "python",
   "name": "python3"
  },
  "language_info": {
   "codemirror_mode": {
    "name": "ipython",
    "version": 3
   },
   "file_extension": ".py",
   "mimetype": "text/x-python",
   "name": "python",
   "nbconvert_exporter": "python",
   "pygments_lexer": "ipython3",
   "version": "3.8.8"
  }
 },
 "nbformat": 4,
 "nbformat_minor": 5
}
